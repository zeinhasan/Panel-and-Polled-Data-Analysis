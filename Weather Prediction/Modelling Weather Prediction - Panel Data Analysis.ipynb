{
 "cells": [
  {
   "attachments": {},
   "cell_type": "markdown",
   "metadata": {},
   "source": [
    "# Library"
   ]
  },
  {
   "cell_type": "code",
   "execution_count": 1,
   "metadata": {},
   "outputs": [],
   "source": [
    "# Common Library\n",
    "import pandas as pd\n",
    "import numpy as np\n",
    "import matplotlib.pyplot as plt\n",
    "import numpy.linalg as la\n",
    "from scipy import stats\n",
    "\n",
    "# Library for panels\n",
    "from linearmodels import PooledOLS,RandomEffects,PanelOLS\n",
    "import statsmodels.api as sm\n",
    "from statsmodels.compat import lzip\n",
    "import statsmodels.stats.api as sms\n",
    "from statsmodels.stats.outliers_influence import variance_inflation_factor\n",
    "from scipy.stats import kstest"
   ]
  },
  {
   "attachments": {},
   "cell_type": "markdown",
   "metadata": {},
   "source": [
    "# Dataset"
   ]
  },
  {
   "cell_type": "code",
   "execution_count": 2,
   "metadata": {},
   "outputs": [],
   "source": [
    "data = pd.read_csv('D:\\Semester 6\\Data Panel\\Tugas Akhir\\data preprocessed.csv')"
   ]
  },
  {
   "cell_type": "code",
   "execution_count": 3,
   "metadata": {},
   "outputs": [
    {
     "data": {
      "text/html": [
       "<div>\n",
       "<style scoped>\n",
       "    .dataframe tbody tr th:only-of-type {\n",
       "        vertical-align: middle;\n",
       "    }\n",
       "\n",
       "    .dataframe tbody tr th {\n",
       "        vertical-align: top;\n",
       "    }\n",
       "\n",
       "    .dataframe thead th {\n",
       "        text-align: right;\n",
       "    }\n",
       "</style>\n",
       "<table border=\"1\" class=\"dataframe\">\n",
       "  <thead>\n",
       "    <tr style=\"text-align: right;\">\n",
       "      <th></th>\n",
       "      <th>temp_max</th>\n",
       "      <th>temp_min</th>\n",
       "      <th>app_temp_max</th>\n",
       "      <th>app_temp_min</th>\n",
       "      <th>srs</th>\n",
       "      <th>rain_sum</th>\n",
       "      <th>snowfall_sum</th>\n",
       "      <th>ws_10m_max</th>\n",
       "      <th>wg_10m_max</th>\n",
       "      <th>wd_10m_dom</th>\n",
       "      <th>et0</th>\n",
       "      <th>elevation</th>\n",
       "      <th>city</th>\n",
       "      <th>daylight_dur</th>\n",
       "      <th>time</th>\n",
       "    </tr>\n",
       "  </thead>\n",
       "  <tbody>\n",
       "    <tr>\n",
       "      <th>0</th>\n",
       "      <td>21.1</td>\n",
       "      <td>16.5</td>\n",
       "      <td>24.5</td>\n",
       "      <td>18.3</td>\n",
       "      <td>5.15</td>\n",
       "      <td>22.0</td>\n",
       "      <td>0.0</td>\n",
       "      <td>3.6</td>\n",
       "      <td>15.1</td>\n",
       "      <td>25.0</td>\n",
       "      <td>1.12</td>\n",
       "      <td>1391</td>\n",
       "      <td>b</td>\n",
       "      <td>718.0</td>\n",
       "      <td>2018-01-01</td>\n",
       "    </tr>\n",
       "    <tr>\n",
       "      <th>1</th>\n",
       "      <td>22.2</td>\n",
       "      <td>16.1</td>\n",
       "      <td>25.0</td>\n",
       "      <td>17.7</td>\n",
       "      <td>11.23</td>\n",
       "      <td>15.7</td>\n",
       "      <td>0.0</td>\n",
       "      <td>3.1</td>\n",
       "      <td>19.8</td>\n",
       "      <td>166.0</td>\n",
       "      <td>2.14</td>\n",
       "      <td>1391</td>\n",
       "      <td>b</td>\n",
       "      <td>719.0</td>\n",
       "      <td>2018-01-02</td>\n",
       "    </tr>\n",
       "    <tr>\n",
       "      <th>2</th>\n",
       "      <td>22.0</td>\n",
       "      <td>16.0</td>\n",
       "      <td>25.2</td>\n",
       "      <td>17.7</td>\n",
       "      <td>5.14</td>\n",
       "      <td>21.2</td>\n",
       "      <td>0.0</td>\n",
       "      <td>4.3</td>\n",
       "      <td>30.6</td>\n",
       "      <td>203.0</td>\n",
       "      <td>1.10</td>\n",
       "      <td>1391</td>\n",
       "      <td>b</td>\n",
       "      <td>718.0</td>\n",
       "      <td>2018-01-03</td>\n",
       "    </tr>\n",
       "    <tr>\n",
       "      <th>3</th>\n",
       "      <td>21.8</td>\n",
       "      <td>15.6</td>\n",
       "      <td>25.2</td>\n",
       "      <td>17.0</td>\n",
       "      <td>6.80</td>\n",
       "      <td>9.1</td>\n",
       "      <td>0.0</td>\n",
       "      <td>4.4</td>\n",
       "      <td>24.1</td>\n",
       "      <td>331.0</td>\n",
       "      <td>1.38</td>\n",
       "      <td>1391</td>\n",
       "      <td>b</td>\n",
       "      <td>719.0</td>\n",
       "      <td>2018-01-04</td>\n",
       "    </tr>\n",
       "    <tr>\n",
       "      <th>4</th>\n",
       "      <td>23.3</td>\n",
       "      <td>16.4</td>\n",
       "      <td>25.7</td>\n",
       "      <td>17.9</td>\n",
       "      <td>18.50</td>\n",
       "      <td>0.7</td>\n",
       "      <td>0.0</td>\n",
       "      <td>6.0</td>\n",
       "      <td>29.2</td>\n",
       "      <td>232.0</td>\n",
       "      <td>3.46</td>\n",
       "      <td>1391</td>\n",
       "      <td>b</td>\n",
       "      <td>719.0</td>\n",
       "      <td>2018-01-05</td>\n",
       "    </tr>\n",
       "  </tbody>\n",
       "</table>\n",
       "</div>"
      ],
      "text/plain": [
       "   temp_max  temp_min  app_temp_max  app_temp_min    srs  rain_sum  \\\n",
       "0      21.1      16.5          24.5          18.3   5.15      22.0   \n",
       "1      22.2      16.1          25.0          17.7  11.23      15.7   \n",
       "2      22.0      16.0          25.2          17.7   5.14      21.2   \n",
       "3      21.8      15.6          25.2          17.0   6.80       9.1   \n",
       "4      23.3      16.4          25.7          17.9  18.50       0.7   \n",
       "\n",
       "   snowfall_sum  ws_10m_max  wg_10m_max  wd_10m_dom   et0  elevation city  \\\n",
       "0           0.0         3.6        15.1        25.0  1.12       1391    b   \n",
       "1           0.0         3.1        19.8       166.0  2.14       1391    b   \n",
       "2           0.0         4.3        30.6       203.0  1.10       1391    b   \n",
       "3           0.0         4.4        24.1       331.0  1.38       1391    b   \n",
       "4           0.0         6.0        29.2       232.0  3.46       1391    b   \n",
       "\n",
       "   daylight_dur        time  \n",
       "0         718.0  2018-01-01  \n",
       "1         719.0  2018-01-02  \n",
       "2         718.0  2018-01-03  \n",
       "3         719.0  2018-01-04  \n",
       "4         719.0  2018-01-05  "
      ]
     },
     "execution_count": 3,
     "metadata": {},
     "output_type": "execute_result"
    }
   ],
   "source": [
    "data.head()"
   ]
  },
  {
   "cell_type": "code",
   "execution_count": 4,
   "metadata": {},
   "outputs": [],
   "source": [
    "data['time'] =  pd.to_datetime(data['time'], format='%Y-%M-%d')"
   ]
  },
  {
   "cell_type": "code",
   "execution_count": 5,
   "metadata": {},
   "outputs": [
    {
     "name": "stdout",
     "output_type": "stream",
     "text": [
      "<class 'pandas.core.frame.DataFrame'>\n",
      "RangeIndex: 13090 entries, 0 to 13089\n",
      "Data columns (total 15 columns):\n",
      " #   Column        Non-Null Count  Dtype         \n",
      "---  ------        --------------  -----         \n",
      " 0   temp_max      13090 non-null  float64       \n",
      " 1   temp_min      13090 non-null  float64       \n",
      " 2   app_temp_max  13090 non-null  float64       \n",
      " 3   app_temp_min  13090 non-null  float64       \n",
      " 4   srs           13090 non-null  float64       \n",
      " 5   rain_sum      13090 non-null  float64       \n",
      " 6   snowfall_sum  13090 non-null  float64       \n",
      " 7   ws_10m_max    13090 non-null  float64       \n",
      " 8   wg_10m_max    13090 non-null  float64       \n",
      " 9   wd_10m_dom    13090 non-null  float64       \n",
      " 10  et0           13090 non-null  float64       \n",
      " 11  elevation     13090 non-null  int64         \n",
      " 12  city          13090 non-null  object        \n",
      " 13  daylight_dur  13090 non-null  float64       \n",
      " 14  time          13090 non-null  datetime64[ns]\n",
      "dtypes: datetime64[ns](1), float64(12), int64(1), object(1)\n",
      "memory usage: 1.5+ MB\n"
     ]
    }
   ],
   "source": [
    "data.info()"
   ]
  },
  {
   "cell_type": "code",
   "execution_count": 6,
   "metadata": {},
   "outputs": [],
   "source": [
    "time = data.time\n",
    "city = data.city\n",
    "data = data.set_index(['city',\"time\"])"
   ]
  },
  {
   "cell_type": "code",
   "execution_count": 7,
   "metadata": {},
   "outputs": [],
   "source": [
    "data['time'] = pd.Categorical(time)\n",
    "data['city'] = pd.Categorical(city)"
   ]
  },
  {
   "cell_type": "code",
   "execution_count": 8,
   "metadata": {},
   "outputs": [
    {
     "data": {
      "text/html": [
       "<div>\n",
       "<style scoped>\n",
       "    .dataframe tbody tr th:only-of-type {\n",
       "        vertical-align: middle;\n",
       "    }\n",
       "\n",
       "    .dataframe tbody tr th {\n",
       "        vertical-align: top;\n",
       "    }\n",
       "\n",
       "    .dataframe thead th {\n",
       "        text-align: right;\n",
       "    }\n",
       "</style>\n",
       "<table border=\"1\" class=\"dataframe\">\n",
       "  <thead>\n",
       "    <tr style=\"text-align: right;\">\n",
       "      <th></th>\n",
       "      <th></th>\n",
       "      <th>temp_max</th>\n",
       "      <th>temp_min</th>\n",
       "      <th>app_temp_max</th>\n",
       "      <th>app_temp_min</th>\n",
       "      <th>srs</th>\n",
       "      <th>rain_sum</th>\n",
       "      <th>snowfall_sum</th>\n",
       "      <th>ws_10m_max</th>\n",
       "      <th>wg_10m_max</th>\n",
       "      <th>wd_10m_dom</th>\n",
       "      <th>et0</th>\n",
       "      <th>elevation</th>\n",
       "      <th>daylight_dur</th>\n",
       "      <th>time</th>\n",
       "      <th>city</th>\n",
       "    </tr>\n",
       "    <tr>\n",
       "      <th>city</th>\n",
       "      <th>time</th>\n",
       "      <th></th>\n",
       "      <th></th>\n",
       "      <th></th>\n",
       "      <th></th>\n",
       "      <th></th>\n",
       "      <th></th>\n",
       "      <th></th>\n",
       "      <th></th>\n",
       "      <th></th>\n",
       "      <th></th>\n",
       "      <th></th>\n",
       "      <th></th>\n",
       "      <th></th>\n",
       "      <th></th>\n",
       "      <th></th>\n",
       "    </tr>\n",
       "  </thead>\n",
       "  <tbody>\n",
       "    <tr>\n",
       "      <th rowspan=\"5\" valign=\"top\">b</th>\n",
       "      <th>2018-01-01 00:01:00</th>\n",
       "      <td>21.1</td>\n",
       "      <td>16.5</td>\n",
       "      <td>24.5</td>\n",
       "      <td>18.3</td>\n",
       "      <td>5.15</td>\n",
       "      <td>22.0</td>\n",
       "      <td>0.0</td>\n",
       "      <td>3.6</td>\n",
       "      <td>15.1</td>\n",
       "      <td>25.0</td>\n",
       "      <td>1.12</td>\n",
       "      <td>1391</td>\n",
       "      <td>718.0</td>\n",
       "      <td>2018-01-01 00:01:00</td>\n",
       "      <td>b</td>\n",
       "    </tr>\n",
       "    <tr>\n",
       "      <th>2018-01-02 00:01:00</th>\n",
       "      <td>22.2</td>\n",
       "      <td>16.1</td>\n",
       "      <td>25.0</td>\n",
       "      <td>17.7</td>\n",
       "      <td>11.23</td>\n",
       "      <td>15.7</td>\n",
       "      <td>0.0</td>\n",
       "      <td>3.1</td>\n",
       "      <td>19.8</td>\n",
       "      <td>166.0</td>\n",
       "      <td>2.14</td>\n",
       "      <td>1391</td>\n",
       "      <td>719.0</td>\n",
       "      <td>2018-01-02 00:01:00</td>\n",
       "      <td>b</td>\n",
       "    </tr>\n",
       "    <tr>\n",
       "      <th>2018-01-03 00:01:00</th>\n",
       "      <td>22.0</td>\n",
       "      <td>16.0</td>\n",
       "      <td>25.2</td>\n",
       "      <td>17.7</td>\n",
       "      <td>5.14</td>\n",
       "      <td>21.2</td>\n",
       "      <td>0.0</td>\n",
       "      <td>4.3</td>\n",
       "      <td>30.6</td>\n",
       "      <td>203.0</td>\n",
       "      <td>1.10</td>\n",
       "      <td>1391</td>\n",
       "      <td>718.0</td>\n",
       "      <td>2018-01-03 00:01:00</td>\n",
       "      <td>b</td>\n",
       "    </tr>\n",
       "    <tr>\n",
       "      <th>2018-01-04 00:01:00</th>\n",
       "      <td>21.8</td>\n",
       "      <td>15.6</td>\n",
       "      <td>25.2</td>\n",
       "      <td>17.0</td>\n",
       "      <td>6.80</td>\n",
       "      <td>9.1</td>\n",
       "      <td>0.0</td>\n",
       "      <td>4.4</td>\n",
       "      <td>24.1</td>\n",
       "      <td>331.0</td>\n",
       "      <td>1.38</td>\n",
       "      <td>1391</td>\n",
       "      <td>719.0</td>\n",
       "      <td>2018-01-04 00:01:00</td>\n",
       "      <td>b</td>\n",
       "    </tr>\n",
       "    <tr>\n",
       "      <th>2018-01-05 00:01:00</th>\n",
       "      <td>23.3</td>\n",
       "      <td>16.4</td>\n",
       "      <td>25.7</td>\n",
       "      <td>17.9</td>\n",
       "      <td>18.50</td>\n",
       "      <td>0.7</td>\n",
       "      <td>0.0</td>\n",
       "      <td>6.0</td>\n",
       "      <td>29.2</td>\n",
       "      <td>232.0</td>\n",
       "      <td>3.46</td>\n",
       "      <td>1391</td>\n",
       "      <td>719.0</td>\n",
       "      <td>2018-01-05 00:01:00</td>\n",
       "      <td>b</td>\n",
       "    </tr>\n",
       "  </tbody>\n",
       "</table>\n",
       "</div>"
      ],
      "text/plain": [
       "                          temp_max  temp_min  app_temp_max  app_temp_min  \\\n",
       "city time                                                                  \n",
       "b    2018-01-01 00:01:00      21.1      16.5          24.5          18.3   \n",
       "     2018-01-02 00:01:00      22.2      16.1          25.0          17.7   \n",
       "     2018-01-03 00:01:00      22.0      16.0          25.2          17.7   \n",
       "     2018-01-04 00:01:00      21.8      15.6          25.2          17.0   \n",
       "     2018-01-05 00:01:00      23.3      16.4          25.7          17.9   \n",
       "\n",
       "                            srs  rain_sum  snowfall_sum  ws_10m_max  \\\n",
       "city time                                                             \n",
       "b    2018-01-01 00:01:00   5.15      22.0           0.0         3.6   \n",
       "     2018-01-02 00:01:00  11.23      15.7           0.0         3.1   \n",
       "     2018-01-03 00:01:00   5.14      21.2           0.0         4.3   \n",
       "     2018-01-04 00:01:00   6.80       9.1           0.0         4.4   \n",
       "     2018-01-05 00:01:00  18.50       0.7           0.0         6.0   \n",
       "\n",
       "                          wg_10m_max  wd_10m_dom   et0  elevation  \\\n",
       "city time                                                           \n",
       "b    2018-01-01 00:01:00        15.1        25.0  1.12       1391   \n",
       "     2018-01-02 00:01:00        19.8       166.0  2.14       1391   \n",
       "     2018-01-03 00:01:00        30.6       203.0  1.10       1391   \n",
       "     2018-01-04 00:01:00        24.1       331.0  1.38       1391   \n",
       "     2018-01-05 00:01:00        29.2       232.0  3.46       1391   \n",
       "\n",
       "                          daylight_dur                time city  \n",
       "city time                                                        \n",
       "b    2018-01-01 00:01:00         718.0 2018-01-01 00:01:00    b  \n",
       "     2018-01-02 00:01:00         719.0 2018-01-02 00:01:00    b  \n",
       "     2018-01-03 00:01:00         718.0 2018-01-03 00:01:00    b  \n",
       "     2018-01-04 00:01:00         719.0 2018-01-04 00:01:00    b  \n",
       "     2018-01-05 00:01:00         719.0 2018-01-05 00:01:00    b  "
      ]
     },
     "execution_count": 8,
     "metadata": {},
     "output_type": "execute_result"
    }
   ],
   "source": [
    "data.head()"
   ]
  },
  {
   "attachments": {},
   "cell_type": "markdown",
   "metadata": {},
   "source": [
    "# Make Pooled OLS"
   ]
  },
  {
   "cell_type": "code",
   "execution_count": 9,
   "metadata": {},
   "outputs": [],
   "source": [
    "exog_var = ['temp_max', 'temp_min', 'app_temp_max', 'app_temp_min', 'srs', 'snowfall_sum', 'ws_10m_max', 'wg_10m_max', 'wd_10m_dom',\n",
    "       'et0', 'daylight_dur']"
   ]
  },
  {
   "cell_type": "code",
   "execution_count": 10,
   "metadata": {},
   "outputs": [],
   "source": [
    "exog = sm.tools.tools.add_constant(data[exog_var])\n",
    "endog = data['rain_sum']\n",
    "mod = PooledOLS(endog, exog,check_rank=False)\n",
    "pooledOLS_res = mod.fit(cov_type='clustered', cluster_entity=True)"
   ]
  },
  {
   "cell_type": "code",
   "execution_count": 11,
   "metadata": {},
   "outputs": [
    {
     "name": "stdout",
     "output_type": "stream",
     "text": [
      "                          PooledOLS Estimation Summary                          \n",
      "================================================================================\n",
      "Dep. Variable:               rain_sum   R-squared:                        0.4194\n",
      "Estimator:                  PooledOLS   R-squared (Between):              0.8040\n",
      "No. Observations:               13090   R-squared (Within):               0.2517\n",
      "Date:                Sun, Feb 19 2023   R-squared (Overall):              0.4194\n",
      "Time:                        21:36:07   Log-likelihood                -4.438e+04\n",
      "Cov. Estimator:             Clustered                                           \n",
      "                                        F-statistic:                      858.97\n",
      "Entities:                          10   P-value                           0.0000\n",
      "Avg Obs:                       1309.0   Distribution:                F(11,13078)\n",
      "Min Obs:                       1309.0                                           \n",
      "Max Obs:                       1309.0   F-statistic (robust):          2.122e+13\n",
      "                                        P-value                           0.0000\n",
      "Time periods:                    1309   Distribution:                F(11,13078)\n",
      "Avg Obs:                      10.0000                                           \n",
      "Min Obs:                      10.0000                                           \n",
      "Max Obs:                      10.0000                                           \n",
      "                                                                                \n",
      "                              Parameter Estimates                               \n",
      "================================================================================\n",
      "              Parameter  Std. Err.     T-stat    P-value    Lower CI    Upper CI\n",
      "--------------------------------------------------------------------------------\n",
      "const            11.750     2.3781     4.9410     0.0000      7.0887      16.411\n",
      "temp_max        -1.5245     0.4305    -3.5413     0.0004     -2.3684     -0.6807\n",
      "temp_min         1.7901     0.6664     2.6862     0.0072      0.4838      3.0963\n",
      "app_temp_max     1.3448     0.3171     4.2409     0.0000      0.7232      1.9663\n",
      "app_temp_min    -1.2098     0.4154    -2.9123     0.0036     -2.0240     -0.3955\n",
      "srs             -0.0348     0.2251    -0.1547     0.8770     -0.4760      0.4064\n",
      "snowfall_sum    -1.1467     0.2754    -4.1639     0.0000     -1.6866     -0.6069\n",
      "ws_10m_max      -0.7705     0.2483    -3.1037     0.0019     -1.2572     -0.2839\n",
      "wg_10m_max       0.4239     0.1048     4.0442     0.0001      0.2184      0.6293\n",
      "wd_10m_dom      -0.0041     0.0032    -1.2909     0.1968     -0.0104      0.0021\n",
      "et0             -4.8678     1.3637    -3.5694     0.0004     -7.5409     -2.1947\n",
      "daylight_dur     0.0016     0.0024     0.6778     0.4979     -0.0030      0.0062\n",
      "================================================================================\n"
     ]
    }
   ],
   "source": [
    "print(pooledOLS_res)"
   ]
  },
  {
   "attachments": {},
   "cell_type": "markdown",
   "metadata": {},
   "source": [
    "## Diagnostic Test Pooled Regression"
   ]
  },
  {
   "cell_type": "code",
   "execution_count": 12,
   "metadata": {},
   "outputs": [],
   "source": [
    "# Store values for checking homoskedasticity graphically\n",
    "fittedvals_pooled_OLS = pooledOLS_res.predict().fitted_values\n",
    "residuals_pooled_OLS = pooledOLS_res.resids"
   ]
  },
  {
   "cell_type": "code",
   "execution_count": 13,
   "metadata": {},
   "outputs": [
    {
     "data": {
      "image/png": "[encoded data removed]",
      "text/plain": [
       "<Figure size 640x480 with 1 Axes>"
      ]
     },
     "metadata": {},
     "output_type": "display_data"
    }
   ],
   "source": [
    "# 3A. Homoskedasticity\n",
    "# 3A.1 Residuals-Plot for growing Variance Detection\n",
    "fig, ax = plt.subplots()\n",
    "ax.scatter(fittedvals_pooled_OLS, residuals_pooled_OLS, color = 'blue')\n",
    "ax.axhline(0, color = 'r', ls = '--')\n",
    "ax.set_xlabel(\"Predicted Values\", fontsize = 15)\n",
    "ax.set_ylabel(\"Residuals\", fontsize = 15)\n",
    "ax.set_title(\"Homoskedasticity Test\", fontsize = 30)\n",
    "plt.show()"
   ]
  },
  {
   "cell_type": "code",
   "execution_count": 14,
   "metadata": {},
   "outputs": [
    {
     "name": "stdout",
     "output_type": "stream",
     "text": [
      "{'LM-Stat': 961.4405121924408, 'LM p-val': 8.03158931037742e-153, 'F-Stat': 13.395734298325456, 'F p-val': 1.204191682746879e-159}\n"
     ]
    }
   ],
   "source": [
    "# 3A.2 White-Test\n",
    "from statsmodels.stats.diagnostic import het_white, het_breuschpagan\n",
    "pooled_OLS_dataset = pd.concat([data, residuals_pooled_OLS], axis=1)\n",
    "pooled_OLS_dataset = pooled_OLS_dataset.drop(['time'], axis = 1).fillna(0)\n",
    "white_test_results = het_white(pooled_OLS_dataset[\"residual\"], exog)\n",
    "labels = [\"LM-Stat\", \"LM p-val\", \"F-Stat\", \"F p-val\"] \n",
    "print(dict(zip(labels, white_test_results)))"
   ]
  },
  {
   "cell_type": "code",
   "execution_count": 15,
   "metadata": {},
   "outputs": [
    {
     "name": "stdout",
     "output_type": "stream",
     "text": [
      "{'LM-Stat': 352.1762708377748, 'LM p-val': 8.394606935703957e-69, 'F-Stat': 32.871044450309086, 'F p-val': 8.835505336103005e-70}\n"
     ]
    }
   ],
   "source": [
    "# 3A.3 Breusch-Pagan-Test\n",
    "breusch_pagan_test_results = het_breuschpagan(pooled_OLS_dataset[\"residual\"], exog)\n",
    "labels = [\"LM-Stat\", \"LM p-val\", \"F-Stat\", \"F p-val\"] \n",
    "print(dict(zip(labels, breusch_pagan_test_results)))"
   ]
  },
  {
   "cell_type": "code",
   "execution_count": 16,
   "metadata": {},
   "outputs": [
    {
     "name": "stdout",
     "output_type": "stream",
     "text": [
      "1.2873128491447876\n"
     ]
    }
   ],
   "source": [
    "# 3.B Non-Autocorrelation\n",
    "# Durbin-Watson-Test\n",
    "from statsmodels.stats.stattools import durbin_watson\n",
    "durbin_watson_test_results = durbin_watson(pooled_OLS_dataset[\"residual\"]) \n",
    "print(durbin_watson_test_results)"
   ]
  },
  {
   "attachments": {},
   "cell_type": "markdown",
   "metadata": {},
   "source": [
    "# Fixed Effect"
   ]
  },
  {
   "cell_type": "code",
   "execution_count": 17,
   "metadata": {},
   "outputs": [
    {
     "name": "stdout",
     "output_type": "stream",
     "text": [
      "                          PanelOLS Estimation Summary                           \n",
      "================================================================================\n",
      "Dep. Variable:               rain_sum   R-squared:                        0.2941\n",
      "Estimator:                   PanelOLS   R-squared (Between):              0.0498\n",
      "No. Observations:               13090   R-squared (Within):               0.2941\n",
      "Date:                Sun, Feb 19 2023   R-squared (Overall):              0.2199\n",
      "Time:                        21:36:08   Log-likelihood                -4.328e+04\n",
      "Cov. Estimator:            Unadjusted                                           \n",
      "                                        F-statistic:                      495.11\n",
      "Entities:                          10   P-value                           0.0000\n",
      "Avg Obs:                       1309.0   Distribution:                F(11,13069)\n",
      "Min Obs:                       1309.0                                           \n",
      "Max Obs:                       1309.0   F-statistic (robust):             495.11\n",
      "                                        P-value                           0.0000\n",
      "Time periods:                    1309   Distribution:                F(11,13069)\n",
      "Avg Obs:                      10.0000                                           \n",
      "Min Obs:                      10.0000                                           \n",
      "Max Obs:                      10.0000                                           \n",
      "                                                                                \n",
      "                              Parameter Estimates                               \n",
      "================================================================================\n",
      "              Parameter  Std. Err.     T-stat    P-value    Lower CI    Upper CI\n",
      "--------------------------------------------------------------------------------\n",
      "const            10.034     0.5475     18.325     0.0000      8.9608      11.107\n",
      "temp_max        -1.6911     0.0845    -20.009     0.0000     -1.8567     -1.5254\n",
      "temp_min         0.4487     0.1264     3.5490     0.0004      0.2009      0.6965\n",
      "app_temp_max     1.7396     0.0647     26.892     0.0000      1.6128      1.8664\n",
      "app_temp_min    -0.2359     0.1031    -2.2871     0.0222     -0.4380     -0.0337\n",
      "srs              0.1068     0.0270     3.9586     0.0001      0.0539      0.1596\n",
      "snowfall_sum    -0.7793     0.1233    -6.3212     0.0000     -1.0210     -0.5377\n",
      "ws_10m_max       0.0818     0.0326     2.5054     0.0122      0.0178      0.1458\n",
      "wg_10m_max       0.0827     0.0154     5.3647     0.0000      0.0525      0.1129\n",
      "wd_10m_dom       0.0005     0.0007     0.7581     0.4484     -0.0008      0.0019\n",
      "et0             -5.7826     0.1841    -31.405     0.0000     -6.1435     -5.4217\n",
      "daylight_dur    -0.0003     0.0004    -0.6201     0.5352     -0.0012      0.0006\n",
      "================================================================================\n",
      "\n",
      "F-test for Poolability: 263.32\n",
      "P-value: 0.0000\n",
      "Distribution: F(9,13069)\n",
      "\n",
      "Included effects: Entity\n"
     ]
    }
   ],
   "source": [
    "model_fe = PanelOLS(endog, exog, entity_effects = True) \n",
    "fe_res = model_fe.fit()\n",
    "print(fe_res)"
   ]
  },
  {
   "cell_type": "code",
   "execution_count": 18,
   "metadata": {},
   "outputs": [
    {
     "name": "stdout",
     "output_type": "stream",
     "text": [
      "                          PanelOLS Estimation Summary                           \n",
      "================================================================================\n",
      "Dep. Variable:               rain_sum   R-squared:                        0.4217\n",
      "Estimator:                   PanelOLS   R-squared (Between):              0.8153\n",
      "No. Observations:               13090   R-squared (Within):               0.2412\n",
      "Date:                Sun, Feb 19 2023   R-squared (Overall):              0.4156\n",
      "Time:                        21:36:08   Log-likelihood                 -4.35e+04\n",
      "Cov. Estimator:            Unadjusted                                           \n",
      "                                        F-statistic:                      780.33\n",
      "Entities:                          10   P-value                           0.0000\n",
      "Avg Obs:                       1309.0   Distribution:                F(11,11770)\n",
      "Min Obs:                       1309.0                                           \n",
      "Max Obs:                       1309.0   F-statistic (robust):             780.33\n",
      "                                        P-value                           0.0000\n",
      "Time periods:                    1309   Distribution:                F(11,11770)\n",
      "Avg Obs:                      10.0000                                           \n",
      "Min Obs:                      10.0000                                           \n",
      "Max Obs:                      10.0000                                           \n",
      "                                                                                \n",
      "                              Parameter Estimates                               \n",
      "================================================================================\n",
      "              Parameter  Std. Err.     T-stat    P-value    Lower CI    Upper CI\n",
      "--------------------------------------------------------------------------------\n",
      "const            11.857     0.3553     33.370     0.0000      11.161      12.554\n",
      "temp_max        -1.2809     0.0791    -16.196     0.0000     -1.4360     -1.1259\n",
      "temp_min         2.0356     0.1085     18.767     0.0000      1.8230      2.2482\n",
      "app_temp_max     1.0520     0.0703     14.962     0.0000      0.9142      1.1898\n",
      "app_temp_min    -1.2970     0.0856    -15.153     0.0000     -1.4648     -1.1293\n",
      "srs             -0.0077     0.0289    -0.2648     0.7912     -0.0643      0.0490\n",
      "snowfall_sum    -1.2560     0.1339    -9.3803     0.0000     -1.5184     -0.9935\n",
      "ws_10m_max      -0.8196     0.0191    -43.022     0.0000     -0.8569     -0.7822\n",
      "wg_10m_max       0.4221     0.0119     35.535     0.0000      0.3989      0.4454\n",
      "wd_10m_dom      -0.0055     0.0008    -7.0264     0.0000     -0.0070     -0.0039\n",
      "et0             -4.7507     0.1997    -23.790     0.0000     -5.1421     -4.3593\n",
      "daylight_dur     0.0009     0.0004     2.0129     0.0442    2.32e-05      0.0017\n",
      "================================================================================\n",
      "\n",
      "F-test for Poolability: 1.2891\n",
      "P-value: 0.0000\n",
      "Distribution: F(1308,11770)\n",
      "\n",
      "Included effects: Time\n"
     ]
    }
   ],
   "source": [
    "model_fe2 = PanelOLS(endog, exog,time_effects=True) \n",
    "fe_res2 = model_fe2.fit()\n",
    "print(fe_res2)"
   ]
  },
  {
   "cell_type": "code",
   "execution_count": 19,
   "metadata": {},
   "outputs": [
    {
     "name": "stdout",
     "output_type": "stream",
     "text": [
      "                          PanelOLS Estimation Summary                           \n",
      "================================================================================\n",
      "Dep. Variable:               rain_sum   R-squared:                        0.2670\n",
      "Estimator:                   PanelOLS   R-squared (Between):             -0.0299\n",
      "No. Observations:               13090   R-squared (Within):               0.2891\n",
      "Date:                Sun, Feb 19 2023   R-squared (Overall):              0.1922\n",
      "Time:                        21:36:09   Log-likelihood                -4.227e+04\n",
      "Cov. Estimator:            Unadjusted                                           \n",
      "                                        F-statistic:                      389.42\n",
      "Entities:                          10   P-value                           0.0000\n",
      "Avg Obs:                       1309.0   Distribution:                F(11,11761)\n",
      "Min Obs:                       1309.0                                           \n",
      "Max Obs:                       1309.0   F-statistic (robust):             389.42\n",
      "                                        P-value                           0.0000\n",
      "Time periods:                    1309   Distribution:                F(11,11761)\n",
      "Avg Obs:                      10.0000                                           \n",
      "Min Obs:                      10.0000                                           \n",
      "Max Obs:                      10.0000                                           \n",
      "                                                                                \n",
      "                              Parameter Estimates                               \n",
      "================================================================================\n",
      "              Parameter  Std. Err.     T-stat    P-value    Lower CI    Upper CI\n",
      "--------------------------------------------------------------------------------\n",
      "const            9.8065     0.5688     17.241     0.0000      8.6916      10.921\n",
      "temp_max        -1.4376     0.0900    -15.967     0.0000     -1.6141     -1.2611\n",
      "temp_min         0.5826     0.1321     4.4088     0.0000      0.3236      0.8416\n",
      "app_temp_max     1.4819     0.0695     21.326     0.0000      1.3457      1.6181\n",
      "app_temp_min    -0.2600     0.1075    -2.4197     0.0155     -0.4707     -0.0494\n",
      "srs              0.1647     0.0283     5.8153     0.0000      0.1092      0.2202\n",
      "snowfall_sum    -0.8246     0.1261    -6.5397     0.0000     -1.0718     -0.5775\n",
      "ws_10m_max       0.1006     0.0336     2.9914     0.0028      0.0347      0.1666\n",
      "wg_10m_max       0.0478     0.0161     2.9730     0.0030      0.0163      0.0793\n",
      "wd_10m_dom      -0.0003     0.0007    -0.4327     0.6653     -0.0018      0.0011\n",
      "et0             -5.8812     0.1983    -29.657     0.0000     -6.2699     -5.4925\n",
      "daylight_dur    -0.0008     0.0005    -1.7624     0.0780     -0.0017   9.109e-05\n",
      "================================================================================\n",
      "\n",
      "F-test for Poolability: 3.3833\n",
      "P-value: 0.0000\n",
      "Distribution: F(1317,11761)\n",
      "\n",
      "Included effects: Entity, Time\n"
     ]
    }
   ],
   "source": [
    "model_fe3 = PanelOLS(endog, exog,time_effects=True, entity_effects=True) \n",
    "fe_res3 = model_fe3.fit()\n",
    "print(fe_res3)"
   ]
  },
  {
   "attachments": {},
   "cell_type": "markdown",
   "metadata": {},
   "source": [
    "# Random Effect"
   ]
  },
  {
   "cell_type": "code",
   "execution_count": 20,
   "metadata": {},
   "outputs": [
    {
     "name": "stdout",
     "output_type": "stream",
     "text": [
      "                        RandomEffects Estimation Summary                        \n",
      "================================================================================\n",
      "Dep. Variable:               rain_sum   R-squared:                        0.4194\n",
      "Estimator:              RandomEffects   R-squared (Between):              0.8040\n",
      "No. Observations:               13090   R-squared (Within):               0.2517\n",
      "Date:                Sun, Feb 19 2023   R-squared (Overall):              0.4194\n",
      "Time:                        21:36:09   Log-likelihood                -4.438e+04\n",
      "Cov. Estimator:            Unadjusted                                           \n",
      "                                        F-statistic:                      858.97\n",
      "Entities:                          10   P-value                           0.0000\n",
      "Avg Obs:                       1309.0   Distribution:                F(11,13078)\n",
      "Min Obs:                       1309.0                                           \n",
      "Max Obs:                       1309.0   F-statistic (robust):             858.97\n",
      "                                        P-value                           0.0000\n",
      "Time periods:                    1309   Distribution:                F(11,13078)\n",
      "Avg Obs:                      10.0000                                           \n",
      "Min Obs:                      10.0000                                           \n",
      "Max Obs:                      10.0000                                           \n",
      "                                                                                \n",
      "                              Parameter Estimates                               \n",
      "================================================================================\n",
      "              Parameter  Std. Err.     T-stat    P-value    Lower CI    Upper CI\n",
      "--------------------------------------------------------------------------------\n",
      "const            11.750     0.3455     34.007     0.0000      11.073      12.427\n",
      "temp_max        -1.5245     0.0749    -20.344     0.0000     -1.6714     -1.3777\n",
      "temp_min         1.7901     0.1044     17.148     0.0000      1.5854      1.9947\n",
      "app_temp_max     1.3448     0.0657     20.469     0.0000      1.2160      1.4735\n",
      "app_temp_min    -1.2098     0.0826    -14.644     0.0000     -1.3717     -1.0478\n",
      "srs             -0.0348     0.0273    -1.2779     0.2013     -0.0883      0.0186\n",
      "snowfall_sum    -1.1467     0.1299    -8.8275     0.0000     -1.4014     -0.8921\n",
      "ws_10m_max      -0.7705     0.0188    -41.088     0.0000     -0.8073     -0.7338\n",
      "wg_10m_max       0.4239     0.0114     37.211     0.0000      0.4016      0.4462\n",
      "wd_10m_dom      -0.0041     0.0007    -5.6897     0.0000     -0.0055     -0.0027\n",
      "et0             -4.8678     0.1848    -26.339     0.0000     -5.2300     -4.5055\n",
      "daylight_dur     0.0016     0.0004     3.7342     0.0002      0.0008      0.0024\n",
      "================================================================================\n"
     ]
    }
   ],
   "source": [
    "model_re = RandomEffects(endog, exog) \n",
    "re_res = model_re.fit() \n",
    "print(re_res)"
   ]
  },
  {
   "attachments": {},
   "cell_type": "markdown",
   "metadata": {},
   "source": [
    "# Hausman Test"
   ]
  },
  {
   "cell_type": "code",
   "execution_count": 21,
   "metadata": {},
   "outputs": [],
   "source": [
    "def hausman(fe, re):\n",
    "    b = fe.params\n",
    "    B = re.params\n",
    "    v_b = fe.cov\n",
    "    v_B = re.cov\n",
    "    df = b[np.abs(b) < 1e8].size\n",
    "    chi2 = np.dot((b-B).T, la.inv(v_b-v_B).dot(b-B)) \n",
    "    pval = stats.chi2.sf(chi2, df)\n",
    "    return chi2, df, pval"
   ]
  },
  {
   "cell_type": "code",
   "execution_count": 22,
   "metadata": {},
   "outputs": [
    {
     "name": "stdout",
     "output_type": "stream",
     "text": [
      "chi-Squared: -2083.1349321308594\n",
      "degrees of freedom:12\n",
      "p-Value:1.0\n"
     ]
    }
   ],
   "source": [
    "hausman_results = hausman(fe_res,re_res) \n",
    "print('chi-Squared: ' + str(hausman_results[0]))\n",
    "print('degrees of freedom:' + str(hausman_results[1]))\n",
    "print('p-Value:'+ str(hausman_results[2]))"
   ]
  },
  {
   "cell_type": "code",
   "execution_count": 23,
   "metadata": {},
   "outputs": [
    {
     "name": "stdout",
     "output_type": "stream",
     "text": [
      "chi-Squared: 620.5700492116978\n",
      "degrees of freedom:12\n",
      "p-Value:4.2813526120837493e-125\n"
     ]
    }
   ],
   "source": [
    "hausman_results = hausman(fe_res2,re_res) \n",
    "print('chi-Squared: ' + str(hausman_results[0]))\n",
    "print('degrees of freedom:' + str(hausman_results[1]))\n",
    "print('p-Value:'+ str(hausman_results[2]))"
   ]
  },
  {
   "cell_type": "code",
   "execution_count": 24,
   "metadata": {},
   "outputs": [
    {
     "name": "stdout",
     "output_type": "stream",
     "text": [
      "chi-Squared: 5249.375192342311\n",
      "degrees of freedom:12\n",
      "p-Value:0.0\n"
     ]
    }
   ],
   "source": [
    "hausman_results = hausman(fe_res3,re_res) \n",
    "print('chi-Squared: ' + str(hausman_results[0]))\n",
    "print('degrees of freedom:' + str(hausman_results[1]))\n",
    "print('p-Value:'+ str(hausman_results[2]))"
   ]
  },
  {
   "attachments": {},
   "cell_type": "markdown",
   "metadata": {},
   "source": [
    "# Breusch-Pagan Test for Fixed Effect Model"
   ]
  },
  {
   "attachments": {},
   "cell_type": "markdown",
   "metadata": {},
   "source": [
    "## fe_res (entity effect)"
   ]
  },
  {
   "cell_type": "code",
   "execution_count": 25,
   "metadata": {},
   "outputs": [
    {
     "name": "stdout",
     "output_type": "stream",
     "text": [
      "{'LM-Stat': 303.17986485979134, 'LM p-val': 1.8727810832820335e-58, 'F-Stat': 28.18943988441756, 'F p-val': 3.6132686829074252e-59}\n"
     ]
    }
   ],
   "source": [
    "# Store values for checking homoskedasticity graphically\n",
    "fittedvals_fixed1 = fe_res.predict().fitted_values\n",
    "residuals_fixed1 = fe_res.resids\n",
    "fixed_Panels_dataset = pd.concat([data, residuals_fixed1], axis=1)\n",
    "fixed_Panels_dataset = fixed_Panels_dataset.drop(['time'], axis = 1).fillna(0)\n",
    "# Breusch-Pagan-Test\n",
    "breusch_pagan_test_results = het_breuschpagan(fixed_Panels_dataset[\"residual\"], exog)\n",
    "labels = [\"LM-Stat\", \"LM p-val\", \"F-Stat\", \"F p-val\"] \n",
    "print(dict(zip(labels, breusch_pagan_test_results)))"
   ]
  },
  {
   "attachments": {},
   "cell_type": "markdown",
   "metadata": {},
   "source": [
    "## fe_res2 (time effect)"
   ]
  },
  {
   "cell_type": "code",
   "execution_count": 26,
   "metadata": {},
   "outputs": [
    {
     "name": "stdout",
     "output_type": "stream",
     "text": [
      "{'LM-Stat': 363.4549480137365, 'LM p-val': 3.4365664871647287e-71, 'F-Stat': 33.95382565058224, 'F p-val': 3.1033816167935745e-72}\n"
     ]
    }
   ],
   "source": [
    "# Store values for checking homoskedasticity graphically\n",
    "fittedvals_fixed2 = fe_res2.predict().fitted_values\n",
    "residuals_fixed2 = fe_res2.resids\n",
    "fixed_Panels_dataset2 = pd.concat([data, residuals_fixed2], axis=1)\n",
    "fixed_Panels_dataset2 = fixed_Panels_dataset2.drop(['time'], axis = 1).fillna(0)\n",
    "# Breusch-Pagan-Test\n",
    "breusch_pagan_test_results = het_breuschpagan(fixed_Panels_dataset2[\"residual\"], exog)\n",
    "labels = [\"LM-Stat\", \"LM p-val\", \"F-Stat\", \"F p-val\"] \n",
    "print(dict(zip(labels, breusch_pagan_test_results)))"
   ]
  },
  {
   "attachments": {},
   "cell_type": "markdown",
   "metadata": {},
   "source": [
    "## fe_res3 (entity & time effect)"
   ]
  },
  {
   "cell_type": "code",
   "execution_count": 27,
   "metadata": {},
   "outputs": [
    {
     "name": "stdout",
     "output_type": "stream",
     "text": [
      "{'LM-Stat': 296.3492581968745, 'LM p-val': 5.146384219260821e-57, 'F-Stat': 27.539623698119854, 'F p-val': 1.0722272655855795e-57}\n"
     ]
    }
   ],
   "source": [
    "# Store values for checking homoskedasticity graphically\n",
    "fittedvals_fixed3 = fe_res3.predict().fitted_values\n",
    "residuals_fixed3 = fe_res3.resids\n",
    "fixed_Panels_dataset3 = pd.concat([data, residuals_fixed3], axis=1)\n",
    "fixed_Panels_dataset3 = fixed_Panels_dataset3.drop(['time'], axis = 1).fillna(0)\n",
    "# Breusch-Pagan-Test\n",
    "breusch_pagan_test_results = het_breuschpagan(fixed_Panels_dataset3[\"residual\"], exog)\n",
    "labels = [\"LM-Stat\", \"LM p-val\", \"F-Stat\", \"F p-val\"] \n",
    "print(dict(zip(labels, breusch_pagan_test_results)))"
   ]
  },
  {
   "attachments": {},
   "cell_type": "markdown",
   "metadata": {},
   "source": [
    "# Wald Test"
   ]
  },
  {
   "attachments": {},
   "cell_type": "markdown",
   "metadata": {},
   "source": [
    "## Model 1"
   ]
  },
  {
   "cell_type": "code",
   "execution_count": 28,
   "metadata": {},
   "outputs": [],
   "source": [
    "exog_var1 = ['temp_max', 'temp_min', 'app_temp_max', 'app_temp_min', 'srs', 'snowfall_sum', 'ws_10m_max', 'wg_10m_max', 'wd_10m_dom',\n",
    "       'et0', 'daylight_dur']"
   ]
  },
  {
   "cell_type": "code",
   "execution_count": 29,
   "metadata": {},
   "outputs": [
    {
     "name": "stdout",
     "output_type": "stream",
     "text": [
      "                          PanelOLS Estimation Summary                           \n",
      "================================================================================\n",
      "Dep. Variable:               rain_sum   R-squared:                        0.2670\n",
      "Estimator:                   PanelOLS   R-squared (Between):             -0.0299\n",
      "No. Observations:               13090   R-squared (Within):               0.2891\n",
      "Date:                Sun, Feb 19 2023   R-squared (Overall):              0.1922\n",
      "Time:                        21:36:10   Log-likelihood                -4.227e+04\n",
      "Cov. Estimator:            Unadjusted                                           \n",
      "                                        F-statistic:                      389.42\n",
      "Entities:                          10   P-value                           0.0000\n",
      "Avg Obs:                       1309.0   Distribution:                F(11,11761)\n",
      "Min Obs:                       1309.0                                           \n",
      "Max Obs:                       1309.0   F-statistic (robust):             389.42\n",
      "                                        P-value                           0.0000\n",
      "Time periods:                    1309   Distribution:                F(11,11761)\n",
      "Avg Obs:                      10.0000                                           \n",
      "Min Obs:                      10.0000                                           \n",
      "Max Obs:                      10.0000                                           \n",
      "                                                                                \n",
      "                              Parameter Estimates                               \n",
      "================================================================================\n",
      "              Parameter  Std. Err.     T-stat    P-value    Lower CI    Upper CI\n",
      "--------------------------------------------------------------------------------\n",
      "const            9.8065     0.5688     17.241     0.0000      8.6916      10.921\n",
      "temp_max        -1.4376     0.0900    -15.967     0.0000     -1.6141     -1.2611\n",
      "temp_min         0.5826     0.1321     4.4088     0.0000      0.3236      0.8416\n",
      "app_temp_max     1.4819     0.0695     21.326     0.0000      1.3457      1.6181\n",
      "app_temp_min    -0.2600     0.1075    -2.4197     0.0155     -0.4707     -0.0494\n",
      "srs              0.1647     0.0283     5.8153     0.0000      0.1092      0.2202\n",
      "snowfall_sum    -0.8246     0.1261    -6.5397     0.0000     -1.0718     -0.5775\n",
      "ws_10m_max       0.1006     0.0336     2.9914     0.0028      0.0347      0.1666\n",
      "wg_10m_max       0.0478     0.0161     2.9730     0.0030      0.0163      0.0793\n",
      "wd_10m_dom      -0.0003     0.0007    -0.4327     0.6653     -0.0018      0.0011\n",
      "et0             -5.8812     0.1983    -29.657     0.0000     -6.2699     -5.4925\n",
      "daylight_dur    -0.0008     0.0005    -1.7624     0.0780     -0.0017   9.109e-05\n",
      "================================================================================\n",
      "\n",
      "F-test for Poolability: 3.3833\n",
      "P-value: 0.0000\n",
      "Distribution: F(1317,11761)\n",
      "\n",
      "Included effects: Entity, Time\n"
     ]
    }
   ],
   "source": [
    "model_final1 = PanelOLS(endog, exog,time_effects=True, entity_effects=True) \n",
    "model1 = model_final1.fit()\n",
    "print(model1)"
   ]
  },
  {
   "attachments": {},
   "cell_type": "markdown",
   "metadata": {},
   "source": [
    "## Model 2"
   ]
  },
  {
   "cell_type": "code",
   "execution_count": 30,
   "metadata": {},
   "outputs": [],
   "source": [
    "exog_var1 = ['temp_max', 'temp_min', 'app_temp_max', 'app_temp_min', 'srs', 'snowfall_sum', 'ws_10m_max', 'wg_10m_max',\n",
    "       'et0', 'daylight_dur']"
   ]
  },
  {
   "cell_type": "code",
   "execution_count": 31,
   "metadata": {},
   "outputs": [
    {
     "name": "stdout",
     "output_type": "stream",
     "text": [
      "                          PanelOLS Estimation Summary                           \n",
      "================================================================================\n",
      "Dep. Variable:               rain_sum   R-squared:                        0.2670\n",
      "Estimator:                   PanelOLS   R-squared (Between):             -0.0341\n",
      "No. Observations:               13090   R-squared (Within):               0.2892\n",
      "Date:                Sun, Feb 19 2023   R-squared (Overall):              0.1909\n",
      "Time:                        21:36:10   Log-likelihood                -4.227e+04\n",
      "Cov. Estimator:            Unadjusted                                           \n",
      "                                        F-statistic:                      428.37\n",
      "Entities:                          10   P-value                           0.0000\n",
      "Avg Obs:                       1309.0   Distribution:                F(10,11762)\n",
      "Min Obs:                       1309.0                                           \n",
      "Max Obs:                       1309.0   F-statistic (robust):             428.37\n",
      "                                        P-value                           0.0000\n",
      "Time periods:                    1309   Distribution:                F(10,11762)\n",
      "Avg Obs:                      10.0000                                           \n",
      "Min Obs:                      10.0000                                           \n",
      "Max Obs:                      10.0000                                           \n",
      "                                                                                \n",
      "                              Parameter Estimates                               \n",
      "================================================================================\n",
      "              Parameter  Std. Err.     T-stat    P-value    Lower CI    Upper CI\n",
      "--------------------------------------------------------------------------------\n",
      "const            9.7506     0.5539     17.603     0.0000      8.6648      10.836\n",
      "temp_max        -1.4349     0.0898    -15.976     0.0000     -1.6109     -1.2588\n",
      "temp_min         0.5804     0.1320     4.3956     0.0000      0.3216      0.8393\n",
      "app_temp_max     1.4804     0.0694     21.331     0.0000      1.3443      1.6164\n",
      "app_temp_min    -0.2591     0.1074    -2.4118     0.0159     -0.4697     -0.0485\n",
      "srs              0.1626     0.0279     5.8243     0.0000      0.1079      0.2174\n",
      "snowfall_sum    -0.8259     0.1261    -6.5521     0.0000     -1.0730     -0.5788\n",
      "ws_10m_max       0.1022     0.0334     3.0573     0.0022      0.0367      0.1678\n",
      "wg_10m_max       0.0466     0.0158     2.9432     0.0033      0.0156      0.0776\n",
      "et0             -5.8653     0.1949    -30.098     0.0000     -6.2473     -5.4834\n",
      "daylight_dur    -0.0008     0.0005    -1.7667     0.0773     -0.0017   8.911e-05\n",
      "================================================================================\n",
      "\n",
      "F-test for Poolability: 3.4139\n",
      "P-value: 0.0000\n",
      "Distribution: F(1317,11762)\n",
      "\n",
      "Included effects: Entity, Time\n"
     ]
    }
   ],
   "source": [
    "exog = sm.tools.tools.add_constant(data[exog_var1])\n",
    "model_final2 = PanelOLS(endog, exog,time_effects=True, entity_effects=True) \n",
    "model2 = model_final2.fit()\n",
    "print(model2)"
   ]
  },
  {
   "attachments": {},
   "cell_type": "markdown",
   "metadata": {},
   "source": [
    "## Model 3"
   ]
  },
  {
   "cell_type": "code",
   "execution_count": 32,
   "metadata": {},
   "outputs": [],
   "source": [
    "exog_var2 = ['temp_max', 'temp_min', 'app_temp_max', 'app_temp_min', 'srs', 'snowfall_sum', 'ws_10m_max', 'wg_10m_max',\n",
    "       'et0']"
   ]
  },
  {
   "cell_type": "code",
   "execution_count": 33,
   "metadata": {},
   "outputs": [
    {
     "name": "stdout",
     "output_type": "stream",
     "text": [
      "                          PanelOLS Estimation Summary                           \n",
      "================================================================================\n",
      "Dep. Variable:               rain_sum   R-squared:                        0.2668\n",
      "Estimator:                   PanelOLS   R-squared (Between):             -0.0302\n",
      "No. Observations:               13090   R-squared (Within):               0.2891\n",
      "Date:                Sun, Feb 19 2023   R-squared (Overall):              0.1921\n",
      "Time:                        21:36:11   Log-likelihood                -4.227e+04\n",
      "Cov. Estimator:            Unadjusted                                           \n",
      "                                        F-statistic:                      475.53\n",
      "Entities:                          10   P-value                           0.0000\n",
      "Avg Obs:                       1309.0   Distribution:                 F(9,11763)\n",
      "Min Obs:                       1309.0                                           \n",
      "Max Obs:                       1309.0   F-statistic (robust):             475.53\n",
      "                                        P-value                           0.0000\n",
      "Time periods:                    1309   Distribution:                 F(9,11763)\n",
      "Avg Obs:                      10.0000                                           \n",
      "Min Obs:                      10.0000                                           \n",
      "Max Obs:                      10.0000                                           \n",
      "                                                                                \n",
      "                              Parameter Estimates                               \n",
      "================================================================================\n",
      "              Parameter  Std. Err.     T-stat    P-value    Lower CI    Upper CI\n",
      "--------------------------------------------------------------------------------\n",
      "const            9.2297     0.4690     19.681     0.0000      8.3105      10.149\n",
      "temp_max        -1.4286     0.0898    -15.918     0.0000     -1.6046     -1.2527\n",
      "temp_min         0.5952     0.1318     4.5162     0.0000      0.3369      0.8535\n",
      "app_temp_max     1.4724     0.0693     21.260     0.0000      1.3366      1.6081\n",
      "app_temp_min    -0.2711     0.1072    -2.5280     0.0115     -0.4813     -0.0609\n",
      "srs              0.1671     0.0278     6.0061     0.0000      0.1125      0.2216\n",
      "snowfall_sum    -0.8147     0.1259    -6.4705     0.0000     -1.0615     -0.5679\n",
      "ws_10m_max       0.1033     0.0334     3.0898     0.0020      0.0378      0.1688\n",
      "wg_10m_max       0.0453     0.0158     2.8626     0.0042      0.0143      0.0762\n",
      "et0             -5.8769     0.1948    -30.172     0.0000     -6.2587     -5.4951\n",
      "================================================================================\n",
      "\n",
      "F-test for Poolability: 3.4207\n",
      "P-value: 0.0000\n",
      "Distribution: F(1317,11763)\n",
      "\n",
      "Included effects: Entity, Time\n"
     ]
    }
   ],
   "source": [
    "exog = sm.tools.tools.add_constant(data[exog_var2])\n",
    "model_final3 = PanelOLS(endog, exog,time_effects=True, entity_effects=True) \n",
    "model3 = model_final3.fit()\n",
    "print(model3)"
   ]
  },
  {
   "attachments": {},
   "cell_type": "markdown",
   "metadata": {},
   "source": [
    "# Diagnostic Checking"
   ]
  },
  {
   "cell_type": "code",
   "execution_count": 34,
   "metadata": {},
   "outputs": [
    {
     "name": "stdout",
     "output_type": "stream",
     "text": [
      "1.4820088570461791\n"
     ]
    }
   ],
   "source": [
    "# Durbin-Watson-Test\n",
    "from statsmodels.stats.stattools import durbin_watson\n",
    "durbin_watson_test_results = durbin_watson(model3.resids) \n",
    "print(durbin_watson_test_results)"
   ]
  },
  {
   "cell_type": "code",
   "execution_count": 35,
   "metadata": {},
   "outputs": [
    {
     "name": "stdout",
     "output_type": "stream",
     "text": [
      "        feature         VIF\n",
      "0         const   22.997045\n",
      "1      temp_max  234.717634\n",
      "2      temp_min  414.156242\n",
      "3  app_temp_max  295.102794\n",
      "4  app_temp_min  427.558801\n",
      "5           srs    7.700440\n",
      "6  snowfall_sum    1.256198\n",
      "7    ws_10m_max    3.346989\n",
      "8    wg_10m_max    2.547920\n",
      "9           et0   16.735268\n"
     ]
    }
   ],
   "source": [
    "# Multicollinearity test\n",
    "  \n",
    "# VIF dataframe\n",
    "vif_data = pd.DataFrame()\n",
    "vif_data[\"feature\"] = exog.columns\n",
    "  \n",
    "# calculating VIF for each feature\n",
    "vif_data[\"VIF\"] = [variance_inflation_factor(exog.values, i)\n",
    "                          for i in range(len(exog.columns))]\n",
    "  \n",
    "print(vif_data)"
   ]
  },
  {
   "cell_type": "code",
   "execution_count": 36,
   "metadata": {},
   "outputs": [
    {
     "data": {
      "text/plain": [
       "KstestResult(statistic=0.34643562822311263, pvalue=0.0, statistic_location=-1.6953109741372314, statistic_sign=1)"
      ]
     },
     "execution_count": 36,
     "metadata": {},
     "output_type": "execute_result"
    }
   ],
   "source": [
    "# Normality Residual Test\n",
    "kstest(model3.resids,'norm')"
   ]
  }
 ],
 "metadata": {
  "kernelspec": {
   "display_name": "tf",
   "language": "python",
   "name": "python3"
  },
  "language_info": {
   "codemirror_mode": {
    "name": "ipython",
    "version": 3
   },
   "file_extension": ".py",
   "mimetype": "text/x-python",
   "name": "python",
   "nbconvert_exporter": "python",
   "pygments_lexer": "ipython3",
   "version": "3.9.15"
  },
  "orig_nbformat": 4,
  "vscode": {
   "interpreter": {
    "hash": "f64aabac36b4e2a8e51ab88a35bdac0cb86c9aa8fbcdd32db52957c5a8447849"
   }
  }
 },
 "nbformat": 4,
 "nbformat_minor": 2
}
